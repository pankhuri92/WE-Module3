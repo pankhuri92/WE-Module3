{
  "nbformat": 4,
  "nbformat_minor": 0,
  "metadata": {
    "colab": {
      "provenance": []
    },
    "kernelspec": {
      "name": "python3",
      "display_name": "Python 3"
    },
    "language_info": {
      "name": "python"
    }
  },
  "cells": [
    {
      "cell_type": "code",
      "execution_count": 4,
      "metadata": {
        "id": "wcwBQ-XQQpYU"
      },
      "outputs": [],
      "source": [
        "import random\n",
        "\n",
        "def preprocess_text(text):\n",
        "    \"\"\"Preprocesses the text by splitting it into words and removing any unwanted characters.\"\"\"\n",
        "    # You may need to adjust this based on your specific requirements\n",
        "    text = text.replace('\\n', ' ')  # Remove newline characters\n",
        "    text = text.replace('\\r', '')   # Remove carriage return characters\n",
        "    text = ' '.join(text.split())   # Remove extra whitespaces\n",
        "    return text.split()\n",
        "\n",
        "def build_markov_chain(words, chain_length):\n",
        "    \"\"\"Builds a Markov Chain based on the given list of words and chain length.\"\"\"\n",
        "    chain = {}\n",
        "    for i in range(len(words) - chain_length):\n",
        "        prefix = tuple(words[i:i+chain_length])\n",
        "        suffix = words[i+chain_length]\n",
        "        if prefix in chain:\n",
        "            chain[prefix].append(suffix)\n",
        "        else:\n",
        "            chain[prefix] = [suffix]\n",
        "    return chain\n",
        "\n",
        "def generate_sentence(chain, start_words, chain_length, num_generated):\n",
        "    \"\"\"Generates a sentence using the Markov Chain.\"\"\"\n",
        "    current_words = start_words.copy()\n",
        "    result = ' '.join(start_words)\n",
        "\n",
        "    for _ in range(num_generated):\n",
        "        prefix = tuple(current_words[-chain_length:])\n",
        "        if prefix in chain:\n",
        "            next_word = random.choice(chain[prefix])\n",
        "            result += ' ' + next_word\n",
        "            current_words.append(next_word)\n",
        "        else:\n",
        "            break  # If the prefix is not in the chain, stop generating\n",
        "\n",
        "    return result\n",
        "\n",
        "def generate(text, start_words, chain_length, num_generated):\n",
        "    \"\"\"Generates a sentence similar to the provided text.\"\"\"\n",
        "    words = preprocess_text(text)\n",
        "    chain = build_markov_chain(words, chain_length)\n",
        "    return generate_sentence(chain, start_words, chain_length, num_generated)\n"
      ]
    },
    {
      "cell_type": "code",
      "source": [
        "# Test case 1:\n",
        "text = \"The quick brown fox jumps over the lazy dog.\"\n",
        "start_words = ['The', 'quick']\n",
        "chain_length = 2\n",
        "num_generated = 5\n",
        "print(generate(text, start_words, chain_length, num_generated))"
      ],
      "metadata": {
        "colab": {
          "base_uri": "https://localhost:8080/"
        },
        "id": "NlypZJ46SMJt",
        "outputId": "ebb27930-965c-421a-bbc5-a8dd28a22d19"
      },
      "execution_count": 5,
      "outputs": [
        {
          "output_type": "stream",
          "name": "stdout",
          "text": [
            "The quick brown fox jumps over the\n"
          ]
        }
      ]
    },
    {
      "cell_type": "code",
      "source": [
        "# Test case 2:\n",
        "text = \"I have a dream that one day this nation will rise up.\"\n",
        "start_words = ['I', 'have']\n",
        "chain_length = 2\n",
        "num_generated = 7\n",
        "print(generate(text, start_words, chain_length, num_generated))"
      ],
      "metadata": {
        "colab": {
          "base_uri": "https://localhost:8080/"
        },
        "id": "SYPwXO6_SSnZ",
        "outputId": "b736c7b6-3959-4cf9-8e9a-2c50dc9617bc"
      },
      "execution_count": 6,
      "outputs": [
        {
          "output_type": "stream",
          "name": "stdout",
          "text": [
            "I have a dream that one day this nation\n"
          ]
        }
      ]
    },
    {
      "cell_type": "code",
      "source": [
        "# Test case 3:\n",
        "text = \"To be or not to be, that is the question.\"\n",
        "start_words = ['To', 'be', 'or']\n",
        "chain_length = 3\n",
        "num_generated = 6\n",
        "print(generate(text, start_words, chain_length, num_generated))"
      ],
      "metadata": {
        "colab": {
          "base_uri": "https://localhost:8080/"
        },
        "id": "AxAdGt40SWyk",
        "outputId": "933f615e-1732-4740-e1c5-c68bf547597a"
      },
      "execution_count": 7,
      "outputs": [
        {
          "output_type": "stream",
          "name": "stdout",
          "text": [
            "To be or not to be, that is the\n"
          ]
        }
      ]
    },
    {
      "cell_type": "code",
      "source": [
        "# Test case 4:\n",
        "text = \"The cat in the hat is very fat.\"\n",
        "start_words = ['cat', 'in']\n",
        "chain_length = 2\n",
        "num_generated = 4\n",
        "print(generate(text, start_words, chain_length, num_generated))"
      ],
      "metadata": {
        "colab": {
          "base_uri": "https://localhost:8080/"
        },
        "id": "l_GidFQgSXvI",
        "outputId": "cebe7bbf-96c4-462e-cae9-d405425ff07a"
      },
      "execution_count": 8,
      "outputs": [
        {
          "output_type": "stream",
          "name": "stdout",
          "text": [
            "cat in the hat is very\n"
          ]
        }
      ]
    },
    {
      "cell_type": "code",
      "source": [
        "# Test case 5:\n",
        "text = \"The quick brown fox jumps over the lazy dog.\"\n",
        "start_words = ['The', 'The', 'quick']\n",
        "chain_length = 2\n",
        "num_generated = 6\n",
        "print(generate(text, start_words, chain_length, num_generated))"
      ],
      "metadata": {
        "colab": {
          "base_uri": "https://localhost:8080/"
        },
        "id": "yI1HOYwrSYb-",
        "outputId": "9be03634-9441-4fcb-b193-9f2b20ab4924"
      },
      "execution_count": 9,
      "outputs": [
        {
          "output_type": "stream",
          "name": "stdout",
          "text": [
            "The The quick brown fox jumps over the lazy\n"
          ]
        }
      ]
    }
  ]
}