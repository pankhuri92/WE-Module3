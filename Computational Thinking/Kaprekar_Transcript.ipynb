{
  "nbformat": 4,
  "nbformat_minor": 0,
  "metadata": {
    "colab": {
      "provenance": []
    },
    "kernelspec": {
      "name": "python3",
      "display_name": "Python 3"
    },
    "language_info": {
      "name": "python"
    }
  },
  "cells": [
    {
      "cell_type": "code",
      "execution_count": 1,
      "metadata": {
        "colab": {
          "base_uri": "https://localhost:8080/"
        },
        "id": "RP_ttqN-LV8r",
        "outputId": "d4f89b10-b94c-4bcf-e226-be61931e9de1"
      },
      "outputs": [
        {
          "output_type": "stream",
          "name": "stdout",
          "text": [
            "Starting with the number: 3524\n",
            "5432 - 2345 = 3087\n",
            "8730 - 378 = 8352\n",
            "8532 - 2358 = 6174\n",
            "Reached Kaprekar's constant!\n"
          ]
        }
      ],
      "source": [
        "def kaprekar_routine(num):\n",
        "    while True:\n",
        "        # Convert the number to a string and pad with zeros if necessary\n",
        "        num_str = str(num).zfill(4)\n",
        "\n",
        "        # Arrange the digits in ascending and descending order\n",
        "        desc_digits = int(''.join(sorted(num_str, reverse=True)))\n",
        "        asc_digits = int(''.join(sorted(num_str)))\n",
        "\n",
        "        # Calculate the difference\n",
        "        diff = desc_digits - asc_digits\n",
        "\n",
        "        print(f\"{desc_digits} - {asc_digits} = {diff}\")\n",
        "\n",
        "        # Check if we've reached Kaprekar's constant\n",
        "        if diff == 6174:\n",
        "            print(\"Reached Kaprekar's constant!\")\n",
        "            break\n",
        "\n",
        "        # Update the number for the next iteration\n",
        "        num = diff\n",
        "\n",
        "# Example usage:\n",
        "initial_number = 3524\n",
        "print(f\"Starting with the number: {initial_number}\")\n",
        "kaprekar_routine(initial_number)\n"
      ]
    },
    {
      "cell_type": "code",
      "source": [
        "def kaprekar_routine_recursive(num):\n",
        "    # Convert the number to a string and pad with zeros if necessary\n",
        "    num_str = str(num).zfill(4)\n",
        "\n",
        "    # Arrange the digits in ascending and descending order\n",
        "    desc_digits = int(''.join(sorted(num_str, reverse=True)))\n",
        "    asc_digits = int(''.join(sorted(num_str)))\n",
        "\n",
        "    # Calculate the difference\n",
        "    diff = desc_digits - asc_digits\n",
        "\n",
        "    print(f\"{desc_digits} - {asc_digits} = {diff}\")\n",
        "\n",
        "    # Base case: If the difference is Kaprekar's constant (6174), stop recursion\n",
        "    if diff == 6174:\n",
        "        print(\"Reached Kaprekar's constant!\")\n",
        "        return\n",
        "\n",
        "    # Recursive call with the difference as the new number\n",
        "    kaprekar_routine_recursive(diff)\n",
        "\n",
        "# Example usage:\n",
        "initial_number = 9876\n",
        "print(f\"Starting with the number: {initial_number}\")\n",
        "kaprekar_routine_recursive(initial_number)\n"
      ],
      "metadata": {
        "colab": {
          "base_uri": "https://localhost:8080/"
        },
        "id": "1iBd-CN0MySl",
        "outputId": "fb001701-cf6f-43c8-96fb-e9fd72618255"
      },
      "execution_count": 3,
      "outputs": [
        {
          "output_type": "stream",
          "name": "stdout",
          "text": [
            "Starting with the number: 9876\n",
            "9876 - 6789 = 3087\n",
            "8730 - 378 = 8352\n",
            "8532 - 2358 = 6174\n",
            "Reached Kaprekar's constant!\n"
          ]
        }
      ]
    }
  ]
}